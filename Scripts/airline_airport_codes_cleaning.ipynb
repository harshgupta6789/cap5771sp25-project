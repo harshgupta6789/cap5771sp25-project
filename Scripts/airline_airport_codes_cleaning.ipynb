{
 "cells": [
  {
   "cell_type": "code",
   "execution_count": 1,
   "metadata": {},
   "outputs": [],
   "source": [
    "import pandas as pd\n",
    "import matplotlib.pyplot as plt\n",
    "import numpy as np\n",
    "import seaborn as sns\n",
    "\n",
    "import data_preprocessing_utilities as dp\n",
    "import data_eda_utilities as de"
   ]
  },
  {
   "cell_type": "code",
   "execution_count": 2,
   "metadata": {},
   "outputs": [],
   "source": [
    "df_airlines = pd.read_csv(\"../Data/airline_codes.csv\")\n",
    "df_airports = pd.read_csv(\"../Data/airport_codes.csv\")"
   ]
  },
  {
   "cell_type": "code",
   "execution_count": 3,
   "metadata": {},
   "outputs": [
    {
     "name": "stdout",
     "output_type": "stream",
     "text": [
      "IATA              4810\n",
      "ICAO               113\n",
      "Airline              1\n",
      "Call sign          502\n",
      "Country/Region      14\n",
      "Comments          5360\n",
      "dtype: int64\n"
     ]
    },
    {
     "name": "stderr",
     "output_type": "stream",
     "text": [
      "/var/folders/vd/dmj076xx2t38kz00wdhlwgqh0000gn/T/ipykernel_91146/3654596396.py:3: FutureWarning: Series.fillna with 'method' is deprecated and will raise in a future version. Use obj.ffill() or obj.bfill() instead.\n",
      "  df_airlines['IATA'] = df_airlines['IATA'].fillna(method='ffill')\n"
     ]
    }
   ],
   "source": [
    "print(df_airlines.isnull().sum())\n",
    "\n",
    "df_airlines['IATA'] = df_airlines['IATA'].fillna(method='ffill')\n",
    "\n",
    "df_airlines['ICAO'] = df_airlines['ICAO'].fillna('unknown')\n",
    "\n",
    "df_airlines.drop('Call sign', axis=1, inplace=True)\n",
    "df_airlines.drop('Comments', axis=1, inplace=True)\n",
    "df_airlines.drop('Country/Region', axis=1, inplace=True)\n",
    "\n",
    "df_airlines.dropna(subset=['Airline'], inplace=True)"
   ]
  },
  {
   "cell_type": "code",
   "execution_count": 4,
   "metadata": {},
   "outputs": [
    {
     "name": "stdout",
     "output_type": "stream",
     "text": [
      "IATA                  0\n",
      "ICAO               1331\n",
      "Airport name          0\n",
      "Location served       0\n",
      "Time               3792\n",
      "DST                6887\n",
      "dtype: int64\n"
     ]
    }
   ],
   "source": [
    "print(df_airports.isnull().sum())\n",
    "\n",
    "df_airports.drop('Location\\xa0served', axis=1, inplace=True)\n",
    "df_airports.drop('Time', axis=1, inplace=True)\n",
    "df_airports.drop('DST', axis=1, inplace=True)\n",
    "\n",
    "df_airports['ICAO'] = df_airports['ICAO'].fillna('unknown')"
   ]
  },
  {
   "cell_type": "code",
   "execution_count": 5,
   "metadata": {},
   "outputs": [],
   "source": [
    "df_airlines.to_csv(\"../Data/airline_codes.csv\")\n",
    "df_airports.to_csv(\"../Data/airport_codes.csv\")"
   ]
  }
 ],
 "metadata": {
  "kernelspec": {
   "display_name": "idsenv",
   "language": "python",
   "name": "python3"
  },
  "language_info": {
   "codemirror_mode": {
    "name": "ipython",
    "version": 3
   },
   "file_extension": ".py",
   "mimetype": "text/x-python",
   "name": "python",
   "nbconvert_exporter": "python",
   "pygments_lexer": "ipython3",
   "version": "3.13.2"
  }
 },
 "nbformat": 4,
 "nbformat_minor": 2
}
