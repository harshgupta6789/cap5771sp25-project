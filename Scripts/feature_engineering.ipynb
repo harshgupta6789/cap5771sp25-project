{
 "cells": [
  {
   "cell_type": "code",
   "execution_count": 106,
   "metadata": {},
   "outputs": [],
   "source": [
    "import pandas as pd\n",
    "import numpy as np"
   ]
  },
  {
   "cell_type": "code",
   "execution_count": 89,
   "metadata": {},
   "outputs": [
    {
     "name": "stderr",
     "output_type": "stream",
     "text": [
      "/var/folders/vd/dmj076xx2t38kz00wdhlwgqh0000gn/T/ipykernel_6157/1110854256.py:1: DtypeWarning: Columns (28) have mixed types. Specify dtype option on import or set low_memory=False.\n",
      "  df = pd.read_csv('../Data/airline_delay_prices_age_storm.csv')\n"
     ]
    }
   ],
   "source": [
    "df = pd.read_csv('../Data/airline_delay_prices_age_storm.csv')"
   ]
  },
  {
   "cell_type": "code",
   "execution_count": 90,
   "metadata": {},
   "outputs": [
    {
     "data": {
      "text/html": [
       "<div>\n",
       "<style scoped>\n",
       "    .dataframe tbody tr th:only-of-type {\n",
       "        vertical-align: middle;\n",
       "    }\n",
       "\n",
       "    .dataframe tbody tr th {\n",
       "        vertical-align: top;\n",
       "    }\n",
       "\n",
       "    .dataframe thead th {\n",
       "        text-align: right;\n",
       "    }\n",
       "</style>\n",
       "<table border=\"1\" class=\"dataframe\">\n",
       "  <thead>\n",
       "    <tr style=\"text-align: right;\">\n",
       "      <th></th>\n",
       "      <th>CRSDepTime</th>\n",
       "      <th>DepTime</th>\n",
       "      <th>DepDelay</th>\n",
       "      <th>DepDelayMinutes</th>\n",
       "      <th>DepDel15</th>\n",
       "      <th>CRSArrTime</th>\n",
       "      <th>ArrTime</th>\n",
       "      <th>ArrDelay</th>\n",
       "      <th>ArrDelayMinutes</th>\n",
       "      <th>ArrDel15</th>\n",
       "      <th>...</th>\n",
       "      <th>DistanceGroup</th>\n",
       "      <th>mkt_fare</th>\n",
       "      <th>Unit Cost</th>\n",
       "      <th>Average Age</th>\n",
       "      <th>MAGNITUDE</th>\n",
       "      <th>CATEGORY</th>\n",
       "      <th>INJURIES_DIRECT</th>\n",
       "      <th>INJURIES_INDIRECT</th>\n",
       "      <th>DEATHS_DIRECT</th>\n",
       "      <th>DEATHS_INDIRECT</th>\n",
       "    </tr>\n",
       "  </thead>\n",
       "  <tbody>\n",
       "    <tr>\n",
       "      <th>count</th>\n",
       "      <td>1.917689e+06</td>\n",
       "      <td>1.917689e+06</td>\n",
       "      <td>1.917689e+06</td>\n",
       "      <td>1.917689e+06</td>\n",
       "      <td>1.917689e+06</td>\n",
       "      <td>1.917689e+06</td>\n",
       "      <td>1.917689e+06</td>\n",
       "      <td>1.917689e+06</td>\n",
       "      <td>1.917689e+06</td>\n",
       "      <td>1.917689e+06</td>\n",
       "      <td>...</td>\n",
       "      <td>1.917689e+06</td>\n",
       "      <td>1.917689e+06</td>\n",
       "      <td>1.525136e+06</td>\n",
       "      <td>1.525136e+06</td>\n",
       "      <td>1.917689e+06</td>\n",
       "      <td>0.0</td>\n",
       "      <td>1.917689e+06</td>\n",
       "      <td>1.917689e+06</td>\n",
       "      <td>1.917689e+06</td>\n",
       "      <td>1.917689e+06</td>\n",
       "    </tr>\n",
       "    <tr>\n",
       "      <th>mean</th>\n",
       "      <td>1.365708e+03</td>\n",
       "      <td>1.373881e+03</td>\n",
       "      <td>1.450610e+01</td>\n",
       "      <td>1.669890e+01</td>\n",
       "      <td>2.328746e-01</td>\n",
       "      <td>1.494130e+03</td>\n",
       "      <td>1.472240e+03</td>\n",
       "      <td>1.409698e+01</td>\n",
       "      <td>1.930330e+01</td>\n",
       "      <td>2.716322e-01</td>\n",
       "      <td>...</td>\n",
       "      <td>2.370335e+00</td>\n",
       "      <td>1.389462e+02</td>\n",
       "      <td>7.690879e+01</td>\n",
       "      <td>1.542397e+01</td>\n",
       "      <td>3.312464e+01</td>\n",
       "      <td>NaN</td>\n",
       "      <td>2.548380e-02</td>\n",
       "      <td>8.628094e-03</td>\n",
       "      <td>1.054863e-02</td>\n",
       "      <td>4.355242e-03</td>\n",
       "    </tr>\n",
       "    <tr>\n",
       "      <th>std</th>\n",
       "      <td>4.869585e+02</td>\n",
       "      <td>5.058178e+02</td>\n",
       "      <td>4.557682e+01</td>\n",
       "      <td>4.467631e+01</td>\n",
       "      <td>4.226631e-01</td>\n",
       "      <td>5.017853e+02</td>\n",
       "      <td>5.357189e+02</td>\n",
       "      <td>4.963945e+01</td>\n",
       "      <td>4.705185e+01</td>\n",
       "      <td>4.448013e-01</td>\n",
       "      <td>...</td>\n",
       "      <td>1.021911e+00</td>\n",
       "      <td>7.619390e+01</td>\n",
       "      <td>6.407962e+00</td>\n",
       "      <td>5.020536e+00</td>\n",
       "      <td>1.959366e+01</td>\n",
       "      <td>NaN</td>\n",
       "      <td>6.869663e-01</td>\n",
       "      <td>5.507393e-01</td>\n",
       "      <td>1.502182e-01</td>\n",
       "      <td>8.135867e-02</td>\n",
       "    </tr>\n",
       "    <tr>\n",
       "      <th>min</th>\n",
       "      <td>8.000000e+00</td>\n",
       "      <td>1.000000e+00</td>\n",
       "      <td>-3.300000e+01</td>\n",
       "      <td>0.000000e+00</td>\n",
       "      <td>0.000000e+00</td>\n",
       "      <td>1.000000e+00</td>\n",
       "      <td>1.000000e+00</td>\n",
       "      <td>-5.600000e+01</td>\n",
       "      <td>0.000000e+00</td>\n",
       "      <td>0.000000e+00</td>\n",
       "      <td>...</td>\n",
       "      <td>1.000000e+00</td>\n",
       "      <td>6.529000e+01</td>\n",
       "      <td>6.600000e+01</td>\n",
       "      <td>9.200000e+00</td>\n",
       "      <td>2.500000e-01</td>\n",
       "      <td>NaN</td>\n",
       "      <td>0.000000e+00</td>\n",
       "      <td>0.000000e+00</td>\n",
       "      <td>0.000000e+00</td>\n",
       "      <td>0.000000e+00</td>\n",
       "    </tr>\n",
       "    <tr>\n",
       "      <th>25%</th>\n",
       "      <td>9.390000e+02</td>\n",
       "      <td>9.410000e+02</td>\n",
       "      <td>-4.000000e+00</td>\n",
       "      <td>0.000000e+00</td>\n",
       "      <td>0.000000e+00</td>\n",
       "      <td>1.100000e+03</td>\n",
       "      <td>1.047000e+03</td>\n",
       "      <td>-9.000000e+00</td>\n",
       "      <td>0.000000e+00</td>\n",
       "      <td>0.000000e+00</td>\n",
       "      <td>...</td>\n",
       "      <td>2.000000e+00</td>\n",
       "      <td>7.762000e+01</td>\n",
       "      <td>7.400000e+01</td>\n",
       "      <td>1.170000e+01</td>\n",
       "      <td>3.633893e+01</td>\n",
       "      <td>NaN</td>\n",
       "      <td>0.000000e+00</td>\n",
       "      <td>0.000000e+00</td>\n",
       "      <td>0.000000e+00</td>\n",
       "      <td>0.000000e+00</td>\n",
       "    </tr>\n",
       "    <tr>\n",
       "      <th>50%</th>\n",
       "      <td>1.352000e+03</td>\n",
       "      <td>1.358000e+03</td>\n",
       "      <td>-1.000000e+00</td>\n",
       "      <td>0.000000e+00</td>\n",
       "      <td>0.000000e+00</td>\n",
       "      <td>1.515000e+03</td>\n",
       "      <td>1.509000e+03</td>\n",
       "      <td>-1.000000e+00</td>\n",
       "      <td>0.000000e+00</td>\n",
       "      <td>0.000000e+00</td>\n",
       "      <td>...</td>\n",
       "      <td>2.000000e+00</td>\n",
       "      <td>9.711000e+01</td>\n",
       "      <td>7.400000e+01</td>\n",
       "      <td>1.170000e+01</td>\n",
       "      <td>3.633893e+01</td>\n",
       "      <td>NaN</td>\n",
       "      <td>0.000000e+00</td>\n",
       "      <td>0.000000e+00</td>\n",
       "      <td>0.000000e+00</td>\n",
       "      <td>0.000000e+00</td>\n",
       "    </tr>\n",
       "    <tr>\n",
       "      <th>75%</th>\n",
       "      <td>1.800000e+03</td>\n",
       "      <td>1.814000e+03</td>\n",
       "      <td>1.200000e+01</td>\n",
       "      <td>1.200000e+01</td>\n",
       "      <td>0.000000e+00</td>\n",
       "      <td>1.920000e+03</td>\n",
       "      <td>1.922000e+03</td>\n",
       "      <td>1.700000e+01</td>\n",
       "      <td>1.700000e+01</td>\n",
       "      <td>1.000000e+00</td>\n",
       "      <td>...</td>\n",
       "      <td>3.000000e+00</td>\n",
       "      <td>1.949500e+02</td>\n",
       "      <td>7.500000e+01</td>\n",
       "      <td>2.274000e+01</td>\n",
       "      <td>4.800000e+01</td>\n",
       "      <td>NaN</td>\n",
       "      <td>0.000000e+00</td>\n",
       "      <td>0.000000e+00</td>\n",
       "      <td>0.000000e+00</td>\n",
       "      <td>0.000000e+00</td>\n",
       "    </tr>\n",
       "    <tr>\n",
       "      <th>max</th>\n",
       "      <td>2.359000e+03</td>\n",
       "      <td>2.400000e+03</td>\n",
       "      <td>1.274000e+03</td>\n",
       "      <td>1.274000e+03</td>\n",
       "      <td>1.000000e+00</td>\n",
       "      <td>2.359000e+03</td>\n",
       "      <td>2.400000e+03</td>\n",
       "      <td>1.260000e+03</td>\n",
       "      <td>1.260000e+03</td>\n",
       "      <td>1.000000e+00</td>\n",
       "      <td>...</td>\n",
       "      <td>7.000000e+00</td>\n",
       "      <td>3.856100e+02</td>\n",
       "      <td>9.800000e+01</td>\n",
       "      <td>2.274000e+01</td>\n",
       "      <td>1.290000e+02</td>\n",
       "      <td>NaN</td>\n",
       "      <td>7.500000e+01</td>\n",
       "      <td>7.000000e+01</td>\n",
       "      <td>6.000000e+00</td>\n",
       "      <td>3.000000e+00</td>\n",
       "    </tr>\n",
       "  </tbody>\n",
       "</table>\n",
       "<p>8 rows × 24 columns</p>\n",
       "</div>"
      ],
      "text/plain": [
       "         CRSDepTime       DepTime      DepDelay  DepDelayMinutes  \\\n",
       "count  1.917689e+06  1.917689e+06  1.917689e+06     1.917689e+06   \n",
       "mean   1.365708e+03  1.373881e+03  1.450610e+01     1.669890e+01   \n",
       "std    4.869585e+02  5.058178e+02  4.557682e+01     4.467631e+01   \n",
       "min    8.000000e+00  1.000000e+00 -3.300000e+01     0.000000e+00   \n",
       "25%    9.390000e+02  9.410000e+02 -4.000000e+00     0.000000e+00   \n",
       "50%    1.352000e+03  1.358000e+03 -1.000000e+00     0.000000e+00   \n",
       "75%    1.800000e+03  1.814000e+03  1.200000e+01     1.200000e+01   \n",
       "max    2.359000e+03  2.400000e+03  1.274000e+03     1.274000e+03   \n",
       "\n",
       "           DepDel15    CRSArrTime       ArrTime      ArrDelay  \\\n",
       "count  1.917689e+06  1.917689e+06  1.917689e+06  1.917689e+06   \n",
       "mean   2.328746e-01  1.494130e+03  1.472240e+03  1.409698e+01   \n",
       "std    4.226631e-01  5.017853e+02  5.357189e+02  4.963945e+01   \n",
       "min    0.000000e+00  1.000000e+00  1.000000e+00 -5.600000e+01   \n",
       "25%    0.000000e+00  1.100000e+03  1.047000e+03 -9.000000e+00   \n",
       "50%    0.000000e+00  1.515000e+03  1.509000e+03 -1.000000e+00   \n",
       "75%    0.000000e+00  1.920000e+03  1.922000e+03  1.700000e+01   \n",
       "max    1.000000e+00  2.359000e+03  2.400000e+03  1.260000e+03   \n",
       "\n",
       "       ArrDelayMinutes      ArrDel15  ...  DistanceGroup      mkt_fare  \\\n",
       "count     1.917689e+06  1.917689e+06  ...   1.917689e+06  1.917689e+06   \n",
       "mean      1.930330e+01  2.716322e-01  ...   2.370335e+00  1.389462e+02   \n",
       "std       4.705185e+01  4.448013e-01  ...   1.021911e+00  7.619390e+01   \n",
       "min       0.000000e+00  0.000000e+00  ...   1.000000e+00  6.529000e+01   \n",
       "25%       0.000000e+00  0.000000e+00  ...   2.000000e+00  7.762000e+01   \n",
       "50%       0.000000e+00  0.000000e+00  ...   2.000000e+00  9.711000e+01   \n",
       "75%       1.700000e+01  1.000000e+00  ...   3.000000e+00  1.949500e+02   \n",
       "max       1.260000e+03  1.000000e+00  ...   7.000000e+00  3.856100e+02   \n",
       "\n",
       "          Unit Cost   Average Age     MAGNITUDE  CATEGORY  INJURIES_DIRECT  \\\n",
       "count  1.525136e+06  1.525136e+06  1.917689e+06       0.0     1.917689e+06   \n",
       "mean   7.690879e+01  1.542397e+01  3.312464e+01       NaN     2.548380e-02   \n",
       "std    6.407962e+00  5.020536e+00  1.959366e+01       NaN     6.869663e-01   \n",
       "min    6.600000e+01  9.200000e+00  2.500000e-01       NaN     0.000000e+00   \n",
       "25%    7.400000e+01  1.170000e+01  3.633893e+01       NaN     0.000000e+00   \n",
       "50%    7.400000e+01  1.170000e+01  3.633893e+01       NaN     0.000000e+00   \n",
       "75%    7.500000e+01  2.274000e+01  4.800000e+01       NaN     0.000000e+00   \n",
       "max    9.800000e+01  2.274000e+01  1.290000e+02       NaN     7.500000e+01   \n",
       "\n",
       "       INJURIES_INDIRECT  DEATHS_DIRECT  DEATHS_INDIRECT  \n",
       "count       1.917689e+06   1.917689e+06     1.917689e+06  \n",
       "mean        8.628094e-03   1.054863e-02     4.355242e-03  \n",
       "std         5.507393e-01   1.502182e-01     8.135867e-02  \n",
       "min         0.000000e+00   0.000000e+00     0.000000e+00  \n",
       "25%         0.000000e+00   0.000000e+00     0.000000e+00  \n",
       "50%         0.000000e+00   0.000000e+00     0.000000e+00  \n",
       "75%         0.000000e+00   0.000000e+00     0.000000e+00  \n",
       "max         7.000000e+01   6.000000e+00     3.000000e+00  \n",
       "\n",
       "[8 rows x 24 columns]"
      ]
     },
     "execution_count": 90,
     "metadata": {},
     "output_type": "execute_result"
    }
   ],
   "source": [
    "df.describe()"
   ]
  },
  {
   "cell_type": "code",
   "execution_count": 91,
   "metadata": {},
   "outputs": [
    {
     "data": {
      "text/plain": [
       "FlightDate                      object\n",
       "Reporting_Airline               object\n",
       "IATA_CODE_Reporting_Airline     object\n",
       "CRSDepTime                       int64\n",
       "DepTime                        float64\n",
       "DepDelay                       float64\n",
       "DepDelayMinutes                float64\n",
       "DepDel15                       float64\n",
       "DepTimeBlk                      object\n",
       "CRSArrTime                       int64\n",
       "ArrTime                        float64\n",
       "ArrDelay                       float64\n",
       "ArrDelayMinutes                float64\n",
       "ArrDel15                       float64\n",
       "ArrTimeBlk                      object\n",
       "CRSElapsedTime                 float64\n",
       "ActualElapsedTime              float64\n",
       "AirTime                        float64\n",
       "Distance                       float64\n",
       "DistanceGroup                    int64\n",
       "OriginState                     object\n",
       "DestState                       object\n",
       "car                             object\n",
       "city1                           object\n",
       "city2                           object\n",
       "mkt_fare                       float64\n",
       "state1                          object\n",
       "state2                          object\n",
       "IATA                            object\n",
       "Unit Cost                      float64\n",
       "Average Age                    float64\n",
       "DATE                            object\n",
       "STATE                           object\n",
       "EVENT_TYPE                      object\n",
       "MAGNITUDE                      float64\n",
       "MAGNITUDE_TYPE                  object\n",
       "CATEGORY                       float64\n",
       "INJURIES_DIRECT                  int64\n",
       "INJURIES_INDIRECT                int64\n",
       "DEATHS_DIRECT                    int64\n",
       "DEATHS_INDIRECT                  int64\n",
       "DAMAGE_PROPERTY                 object\n",
       "DAMAGE_CROPS                    object\n",
       "SOURCE                          object\n",
       "dtype: object"
      ]
     },
     "execution_count": 91,
     "metadata": {},
     "output_type": "execute_result"
    }
   ],
   "source": [
    "df.dtypes"
   ]
  },
  {
   "cell_type": "code",
   "execution_count": 92,
   "metadata": {},
   "outputs": [
    {
     "name": "stdout",
     "output_type": "stream",
     "text": [
      "Is one-to-one mapping: True\n"
     ]
    }
   ],
   "source": [
    "airline_to_iata = df.groupby('Reporting_Airline')['IATA_CODE_Reporting_Airline'].nunique()\n",
    "\n",
    "# Group by IATA code and count unique airline names\n",
    "iata_to_airline = df.groupby('IATA_CODE_Reporting_Airline')['Reporting_Airline'].nunique()\n",
    "\n",
    "# Check if all counts are 1 (i.e., one-to-one relationship)\n",
    "is_one_to_one = airline_to_iata.max() == 1 and iata_to_airline.max() == 1\n",
    "\n",
    "print(\"Is one-to-one mapping:\", is_one_to_one)"
   ]
  },
  {
   "cell_type": "code",
   "execution_count": 93,
   "metadata": {},
   "outputs": [],
   "source": [
    "df.drop(columns=['IATA_CODE_Reporting_Airline'], inplace=True)"
   ]
  },
  {
   "cell_type": "code",
   "execution_count": 94,
   "metadata": {},
   "outputs": [
    {
     "data": {
      "text/plain": [
       "array(['AA', 'AS', 'B6', 'DL', 'VX', 'WN', 'UA', 'F9', 'NK'], dtype=object)"
      ]
     },
     "execution_count": 94,
     "metadata": {},
     "output_type": "execute_result"
    }
   ],
   "source": [
    "df['Reporting_Airline'].unique()"
   ]
  },
  {
   "cell_type": "code",
   "execution_count": 95,
   "metadata": {},
   "outputs": [
    {
     "name": "stdout",
     "output_type": "stream",
     "text": [
      "Is one-to-one mapping: True\n"
     ]
    }
   ],
   "source": [
    "airline_to_car = df.groupby('Reporting_Airline')['car'].nunique()\n",
    "\n",
    "# Group by car and count unique airline names\n",
    "car_to_airline = df.groupby('car')['Reporting_Airline'].nunique()\n",
    "\n",
    "# Check if all counts are 1 (i.e., one-to-one relationship)\n",
    "is_one_to_one = airline_to_car.max() == 1 and car_to_airline.max() == 1\n",
    "\n",
    "print(\"Is one-to-one mapping:\", is_one_to_one)"
   ]
  },
  {
   "cell_type": "code",
   "execution_count": 96,
   "metadata": {},
   "outputs": [],
   "source": [
    "df.drop(columns=['car'], inplace=True)"
   ]
  },
  {
   "cell_type": "code",
   "execution_count": 97,
   "metadata": {},
   "outputs": [
    {
     "name": "stdout",
     "output_type": "stream",
     "text": [
      "Is one-to-one mapping: True\n"
     ]
    }
   ],
   "source": [
    "df['OriginState']\n",
    "\n",
    "OriginState_to_state1 = df.groupby('OriginState')['state1'].nunique()\n",
    "\n",
    "# Group by car and count unique airline names\n",
    "state1_to_OriginState = df.groupby('state1')['OriginState'].nunique()\n",
    "\n",
    "# Check if all counts are 1 (i.e., one-to-one relationship)\n",
    "is_one_to_one = OriginState_to_state1.max() == 1 and state1_to_OriginState.max() == 1\n",
    "\n",
    "print(\"Is one-to-one mapping:\", is_one_to_one)"
   ]
  },
  {
   "cell_type": "code",
   "execution_count": 98,
   "metadata": {},
   "outputs": [],
   "source": [
    "df.drop(columns=['state1'], inplace=True)"
   ]
  },
  {
   "cell_type": "code",
   "execution_count": 99,
   "metadata": {},
   "outputs": [
    {
     "name": "stdout",
     "output_type": "stream",
     "text": [
      "Is one-to-one mapping: True\n"
     ]
    }
   ],
   "source": [
    "df['OriginState']\n",
    "\n",
    "DestState_to_state2 = df.groupby('DestState')['state2'].nunique()\n",
    "\n",
    "# Group by car and count unique airline names\n",
    "state2_to_DestState = df.groupby('state2')['DestState'].nunique()\n",
    "\n",
    "# Check if all counts are 1 (i.e., one-to-one relationship)\n",
    "is_one_to_one = DestState_to_state2.max() == 1 and state2_to_DestState.max() == 1\n",
    "\n",
    "print(\"Is one-to-one mapping:\", is_one_to_one)"
   ]
  },
  {
   "cell_type": "code",
   "execution_count": 100,
   "metadata": {},
   "outputs": [],
   "source": [
    "df.drop(columns=['state2'], inplace=True)"
   ]
  },
  {
   "cell_type": "code",
   "execution_count": 101,
   "metadata": {},
   "outputs": [
    {
     "name": "stdout",
     "output_type": "stream",
     "text": [
      "Is one-to-one mapping: True\n"
     ]
    }
   ],
   "source": [
    "airline_to_IATA = df.groupby('Reporting_Airline')['IATA'].nunique()\n",
    "\n",
    "# Group by IATA and count unique airline names\n",
    "IATA_to_airline = df.groupby('IATA')['Reporting_Airline'].nunique()\n",
    "\n",
    "# Check if all counts are 1 (i.e., one-to-one relationship)\n",
    "is_one_to_one = airline_to_IATA.max() == 1 and IATA_to_airline.max() == 1\n",
    "\n",
    "print(\"Is one-to-one mapping:\", is_one_to_one)"
   ]
  },
  {
   "cell_type": "code",
   "execution_count": 102,
   "metadata": {},
   "outputs": [],
   "source": [
    "df.drop(columns=['IATA'], inplace=True)"
   ]
  },
  {
   "cell_type": "code",
   "execution_count": 103,
   "metadata": {},
   "outputs": [],
   "source": [
    "df.drop(columns=['DATE'], inplace=True)"
   ]
  },
  {
   "cell_type": "code",
   "execution_count": 104,
   "metadata": {},
   "outputs": [
    {
     "name": "stdout",
     "output_type": "stream",
     "text": [
      "Is one-to-one mapping: True\n"
     ]
    }
   ],
   "source": [
    "state_to_DestState = df.groupby('STATE')['DestState'].nunique()\n",
    "\n",
    "# Group by IATA and count unique airline names\n",
    "DestState_to_state = df.groupby('DestState')['STATE'].nunique()\n",
    "\n",
    "# Check if all counts are 1 (i.e., one-to-one relationship)\n",
    "is_one_to_one = state_to_DestState.max() == 1 and DestState_to_state.max() == 1\n",
    "\n",
    "print(\"Is one-to-one mapping:\", is_one_to_one)"
   ]
  },
  {
   "cell_type": "code",
   "execution_count": 105,
   "metadata": {},
   "outputs": [],
   "source": [
    "df.drop(columns=['STATE'], inplace=True)"
   ]
  },
  {
   "cell_type": "code",
   "execution_count": 87,
   "metadata": {},
   "outputs": [],
   "source": [
    "# renaming columns for better readability, dropping unncessary columns\n",
    "df.rename(columns={'Reporting_Airline': 'Airline_Code'}, inplace=True)\n",
    "df.rename(columns={'CRSDepTime': 'Scheduled_Dep_Time_hhmm'}, inplace=True)\n",
    "df.rename(columns={'DepTime': 'Actual_Dep_Time_hhmm'}, inplace=True)\n",
    "df.rename(columns={'DepDelay': 'Dep_Delay_min'}, inplace=True)\n",
    "df.drop(columns=['DepDelayMinutes'], inplace=True)\n",
    "df.rename(columns={'DepDel15': 'If_Dep_Del_Over_15'}, inplace=True)\n",
    "df.drop(columns=['DepTimeBlk'], inplace=True)\n",
    "df.rename(columns={'CRSArrTime': 'Scheduled_Actual_Arr_Time_hhmm'}, inplace=True)\n",
    "df.rename(columns={'ArrTime': 'Actual_Arr_Time_hhmm'}, inplace=True)\n",
    "df.rename(columns={'ArrDelay': 'Arr_Delay_min'}, inplace=True)\n",
    "df.drop(columns=['ArrDelayMinutes'], inplace=True)\n",
    "df.rename(columns={'ArrDel15': 'If_Arr_Del_Over_15'}, inplace=True)\n",
    "df.drop(columns=['ArrTimeBlk'], inplace=True)\n",
    "df.rename(columns={'CRSElapsedTime': 'Scheduled_Elapsed_Time_min'}, inplace=True)\n",
    "df.rename(columns={'ActualElapsedTime': 'Actual_Elapsed_Time_min'}, inplace=True)\n",
    "df.rename(columns={'AirTime': 'AirTime_min'}, inplace=True)\n",
    "df.rename(columns={'Distance': 'Distance_miles'}, inplace=True)\n",
    "df.drop(columns=['DistanceGroup'], inplace=True)\n",
    "df.rename(columns={'city1': 'Origin_City'}, inplace=True)\n",
    "df.rename(columns={'city2': 'Dest_City'}, inplace=True)\n",
    "df.rename(columns={'mkt_fare': 'Fare'}, inplace=True)\n",
    "df.rename(columns={'Unit Cost': 'Airplane_Cost_millions'}, inplace=True)\n",
    "df.rename(columns={'Average Age': 'Avg_Airline_Planes_Age'}, inplace=True)\n",
    "df.rename(columns={'EVENT_TYPE': 'WEATHER_TYPE'}, inplace=True)\n",
    "df.drop(columns=['MAGNITUDE_TYPE'], inplace=True)\n",
    "df.drop(columns=['CATEGORY'], inplace=True)\n",
    "df.rename(columns={'SOURCE': 'WEATHER_SOURCE'}, inplace=True)"
   ]
  },
  {
   "cell_type": "code",
   "execution_count": null,
   "metadata": {},
   "outputs": [],
   "source": []
  }
 ],
 "metadata": {
  "kernelspec": {
   "display_name": "idsenv",
   "language": "python",
   "name": "python3"
  },
  "language_info": {
   "codemirror_mode": {
    "name": "ipython",
    "version": 3
   },
   "file_extension": ".py",
   "mimetype": "text/x-python",
   "name": "python",
   "nbconvert_exporter": "python",
   "pygments_lexer": "ipython3",
   "version": "3.13.2"
  }
 },
 "nbformat": 4,
 "nbformat_minor": 2
}
